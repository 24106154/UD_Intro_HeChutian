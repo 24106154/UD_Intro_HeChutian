{
 "cells": [
  {
   "cell_type": "markdown",
   "id": "38e188a5",
   "metadata": {},
   "source": [
    "# Exercise 00\n",
    "Write a piece of code that allocates a list of 20 integers and initializes each element by its index multiplied by 5. Print the result."
   ]
  },
  {
   "cell_type": "code",
   "execution_count": 13,
   "id": "01aa4f35",
   "metadata": {},
   "outputs": [
    {
     "name": "stdout",
     "output_type": "stream",
     "text": [
      "[0, 5, 10, 15, 20, 25, 30, 35, 40, 45, 50, 55, 60, 65, 70, 75, 80, 85, 90, 95]\n"
     ]
    }
   ],
   "source": [
    "myList = list(range(20))\n",
    "for i in myList:\n",
    "    myList[i] = myList[i]* 5\n",
    "print(myList)"
   ]
  },
  {
   "cell_type": "markdown",
   "id": "529d91ae",
   "metadata": {},
   "source": [
    "# Exercise 01\n",
    "Define a function that takes an integer as input, prints  all integers that it is divisable by, and returns the largest one."
   ]
  },
  {
   "cell_type": "code",
   "execution_count": 113,
   "id": "30e79132",
   "metadata": {},
   "outputs": [
    {
     "name": "stdout",
     "output_type": "stream",
     "text": [
      "1\n",
      "2\n",
      "4\n",
      "5\n",
      "10\n",
      "20\n"
     ]
    },
    {
     "data": {
      "text/plain": [
       "20"
      ]
     },
     "execution_count": 113,
     "metadata": {},
     "output_type": "execute_result"
    }
   ],
   "source": [
    "def f(x):\n",
    "    for i in range(1,x+1):\n",
    "        if x%i == 0:\n",
    "            print(i)   \n",
    "    return int(x/1)\n",
    "f(20)"
   ]
  },
  {
   "cell_type": "markdown",
   "id": "cfbe30d4",
   "metadata": {},
   "source": [
    "# Exercise 02\n",
    "- create a dictionary with 6 keys and values of your choice\n",
    "- write a function that takes a dictionary and a value as input and returns whether the value occurs as a key in the dictionary\n",
    "- write a function that takes a dictionary as input, and returns the dictionary but the keys are swapped with their values (resolve the issue if a value occurs twice!)"
   ]
  },
  {
   "cell_type": "code",
   "execution_count": 114,
   "id": "40fbc0e8-e013-4fbb-a4f3-740c9bde2771",
   "metadata": {},
   "outputs": [
    {
     "name": "stdout",
     "output_type": "stream",
     "text": [
      "true\n",
      "false\n",
      "false\n",
      "false\n",
      "false\n",
      "false\n"
     ]
    }
   ],
   "source": [
    "#write a function that takes a dictionary and a value as input and returns whether the value occurs as a key in the dictionary\n",
    "#Trying 1\n",
    "newDict = {'key1' : 15, 'key2' : 'happy', 'key3' : 25, 'key4' : 46, 'key5' : 75, 'key6' : 'love'}\n",
    "\n",
    "def Search(dic,val):\n",
    "    for i in dic.keys():\n",
    "        if val == i:\n",
    "            print('true')\n",
    "        else:\n",
    "            print('false')\n",
    "\n",
    "Search(newDict,\"key1\")"
   ]
  },
  {
   "cell_type": "code",
   "execution_count": 129,
   "id": "936a0128-39d0-4caa-8101-8e722a7a1f53",
   "metadata": {},
   "outputs": [
    {
     "data": {
      "text/plain": [
       "False"
      ]
     },
     "execution_count": 129,
     "metadata": {},
     "output_type": "execute_result"
    }
   ],
   "source": [
    "#Trying 2 （Complete with reference to answer）\n",
    "#(not really understand)\n",
    "#(not really understand)\n",
    "#(not really understand)\n",
    "newDict = {'key1' : 15, 'key2' : 'happy', 'key3' : 25, 'key4' : 46, 'key5' : 75, 'key6' : 'love'}\n",
    "\n",
    "def Search(dic,key):\n",
    "    for i in dic.keys():\n",
    "        if key == i:\n",
    "            return True\n",
    "        else:\n",
    "            return False\n",
    "\n",
    "Search(newDict,\"key5\")"
   ]
  },
  {
   "cell_type": "code",
   "execution_count": 130,
   "id": "86243f5f-8178-456c-b537-8088399f44cd",
   "metadata": {},
   "outputs": [
    {
     "data": {
      "text/plain": [
       "True"
      ]
     },
     "execution_count": 130,
     "metadata": {},
     "output_type": "execute_result"
    }
   ],
   "source": [
    "#Trying 3\n",
    "newDict = {'key1' : 15, 'key2' : 'happy', 'key3' : 25, 'key4' : 46, 'key5' : 75, 'key6' : 'love'}\n",
    "\n",
    "def Search(dic,key):\n",
    "    for i in dic.keys():\n",
    "        if key == i:\n",
    "            return True\n",
    "    return False\n",
    "\n",
    "Search(newDict,\"key5\")"
   ]
  },
  {
   "cell_type": "code",
   "execution_count": 143,
   "id": "6f51d29c-8c4b-4129-a09c-b0b8deaed70c",
   "metadata": {},
   "outputs": [
    {
     "ename": "KeyError",
     "evalue": "slice('love', 'key6', None)",
     "output_type": "error",
     "traceback": [
      "\u001b[1;31m---------------------------------------------------------------------------\u001b[0m",
      "\u001b[1;31mKeyError\u001b[0m                                  Traceback (most recent call last)",
      "Cell \u001b[1;32mIn[143], line 13\u001b[0m\n\u001b[0;32m     10\u001b[0m         newKey \u001b[38;5;241m=\u001b[39m i\n\u001b[0;32m     11\u001b[0m     \u001b[38;5;28;01mreturn\u001b[39;00m newnewDict[newKey:newVal]\n\u001b[1;32m---> 13\u001b[0m Swap(newDict)\n",
      "Cell \u001b[1;32mIn[143], line 11\u001b[0m, in \u001b[0;36mSwap\u001b[1;34m(dic)\u001b[0m\n\u001b[0;32m      9\u001b[0m \u001b[38;5;28;01mfor\u001b[39;00m i \u001b[38;5;129;01min\u001b[39;00m dic\u001b[38;5;241m.\u001b[39mvalues():\n\u001b[0;32m     10\u001b[0m     newKey \u001b[38;5;241m=\u001b[39m i\n\u001b[1;32m---> 11\u001b[0m \u001b[38;5;28;01mreturn\u001b[39;00m newnewDict[newKey:newVal]\n",
      "\u001b[1;31mKeyError\u001b[0m: slice('love', 'key6', None)"
     ]
    }
   ],
   "source": [
    "#write a function that takes a dictionary as input, and returns the dictionary but the keys are swapped with their values (resolve the issue if a value occurs twice!)\n",
    "#Trying 1\n",
    "newDict = {'key1' : 15, 'key2' : 'happy', 'key3' : 25, 'key4' : 46, 'key5' : 75, 'key6' : 'love'}\n",
    "\n",
    "def Swap(dic):\n",
    "    newnewDict = {}\n",
    "    for i in dic.keys():\n",
    "        newVal = i\n",
    "    for i in dic.values():\n",
    "        newKey = i\n",
    "    return newnewDict[newKey:newVal]\n",
    "\n",
    "Swap(newDict)"
   ]
  },
  {
   "cell_type": "code",
   "execution_count": 137,
   "id": "8c2d805f-e552-48b7-8e89-6730c1ac790c",
   "metadata": {},
   "outputs": [
    {
     "data": {
      "text/plain": [
       "{15: 'key1',\n",
       " 'happy': 'key2',\n",
       " 25: 'key3',\n",
       " 46: 'key4',\n",
       " 75: 'key5',\n",
       " 'love': 'key6'}"
      ]
     },
     "execution_count": 137,
     "metadata": {},
     "output_type": "execute_result"
    }
   ],
   "source": [
    "#Trying 2（Complete with reference to answer）\n",
    "newDict = {'key1' : 15, 'key2' : 'happy', 'key3' : 25, 'key4' : 46, 'key5' : 75, 'key6' : 'love'}\n",
    "\n",
    "def Swap(dic):\n",
    "    newnewDict = {}\n",
    "    for i in dic.keys():\n",
    "        newnewDict[dic[i]] = i\n",
    "    return newnewDict\n",
    "\n",
    "Swap(newDict)"
   ]
  },
  {
   "cell_type": "markdown",
   "id": "b4b4e426",
   "metadata": {},
   "source": [
    "# Exercise 03\n",
    "Define a function that creates a dictionary of the first n fibonacci numbers as values paired with their indices as keys. "
   ]
  },
  {
   "cell_type": "code",
   "execution_count": 148,
   "id": "7845b5a4",
   "metadata": {},
   "outputs": [
    {
     "name": "stdout",
     "output_type": "stream",
     "text": [
      "0\n",
      "1\n",
      "1\n",
      "2\n",
      "3\n",
      "5\n",
      "8\n",
      "13\n",
      "21\n",
      "34\n"
     ]
    }
   ],
   "source": [
    "#first n fibonacc:\n",
    "def Fibo(x):\n",
    "    n = 0\n",
    "    n1 = 0\n",
    "    n2 = 1\n",
    "    while n < x:\n",
    "        print(n1)\n",
    "        m = n1+n2\n",
    "        n1 = n2\n",
    "        n2 = m\n",
    "        n += 1\n",
    "\n",
    "Fibo(10)"
   ]
  },
  {
   "cell_type": "code",
   "execution_count": 160,
   "id": "94bb9d9d-b5c5-48ee-b717-8498ca1ccc2a",
   "metadata": {},
   "outputs": [
    {
     "data": {
      "text/plain": [
       "{0: 0, 1: 1, 2: 1, 3: 2, 4: 3, 5: 5, 6: 8, 7: 13, 8: 21, 9: 34}"
      ]
     },
     "execution_count": 160,
     "metadata": {},
     "output_type": "execute_result"
    }
   ],
   "source": [
    "#（Complete with reference to answer）\n",
    "def Fibo(x):\n",
    "    Fibonacci = {}\n",
    "    n = 0\n",
    "    n1 = 0\n",
    "    n2 = 1\n",
    "    while n < x:\n",
    "        Fibonacci[n]=n1\n",
    "        m = n1+n2\n",
    "        n1 = n2\n",
    "        n2 = m\n",
    "        n += 1\n",
    "    return Fibonacci\n",
    "    \n",
    "Fibo(10)"
   ]
  },
  {
   "cell_type": "code",
   "execution_count": null,
   "id": "31370531-2fac-4be5-8b71-d7e45b3437d4",
   "metadata": {},
   "outputs": [],
   "source": []
  }
 ],
 "metadata": {
  "kernelspec": {
   "display_name": "Python 3 (ipykernel)",
   "language": "python",
   "name": "python3"
  },
  "language_info": {
   "codemirror_mode": {
    "name": "ipython",
    "version": 3
   },
   "file_extension": ".py",
   "mimetype": "text/x-python",
   "name": "python",
   "nbconvert_exporter": "python",
   "pygments_lexer": "ipython3",
   "version": "3.12.4"
  }
 },
 "nbformat": 4,
 "nbformat_minor": 5
}
